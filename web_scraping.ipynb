{
 "cells": [
  {
   "cell_type": "markdown",
   "metadata": {},
   "source": [
    "# Collecting data from the amazon website\n",
    "# product = Apple MacBook Air Laptop\n",
    "# Requried libraries\n",
    "# Beautifulsoup for web scraping\n",
    "# requests  for making connection with webpage\n",
    "# pandas for creating a csv or excel file"
   ]
  },
  {
   "cell_type": "markdown",
   "metadata": {},
   "source": [
    "# Importing libraries"
   ]
  },
  {
   "cell_type": "code",
   "execution_count": 2,
   "metadata": {},
   "outputs": [],
   "source": [
    "from bs4 import BeautifulSoup as bs\n",
    "import requests\n",
    "import pandas as pd"
   ]
  },
  {
   "cell_type": "markdown",
   "metadata": {},
   "source": [
    "# Connecting to url"
   ]
  },
  {
   "cell_type": "code",
   "execution_count": 3,
   "metadata": {},
   "outputs": [
    {
     "data": {
      "text/plain": [
       "12"
      ]
     },
     "execution_count": 3,
     "metadata": {},
     "output_type": "execute_result"
    }
   ],
   "source": [
    "url = 'https://www.amazon.in/Apple-MacBook-Chip-13-inch-256GB/product-reviews/B08N5XSG8Z/ref=cm_cr_dp_d_show_all_btm?ie=UTF8&reviewerType=all_reviews'\n",
    "page = requests.get(url)\n",
    "soup = bs(page.content ,'html.parser')\n",
    "new_page = soup.prettify()\n",
    "\n",
    "names = soup.find_all('span', class_ = 'a-profile-name')\n",
    "len(names)"
   ]
  },
  {
   "cell_type": "markdown",
   "metadata": {},
   "source": [
    "# Getting Names "
   ]
  },
  {
   "cell_type": "code",
   "execution_count": 4,
   "metadata": {},
   "outputs": [
    {
     "data": {
      "text/plain": [
       "['Prady',\n",
       " 'Nomadic',\n",
       " 'Prady',\n",
       " 'tech geek',\n",
       " 'Shiran Lone',\n",
       " 'Nomadic',\n",
       " 'ashish',\n",
       " 'suryakala',\n",
       " 'Dr Vignesh',\n",
       " 'Abhishek Verma']"
      ]
     },
     "execution_count": 4,
     "metadata": {},
     "output_type": "execute_result"
    }
   ],
   "source": [
    "customer_names = []\n",
    "for i in range(0 , len(names)):\n",
    "    customer_names.append(names[i].text)\n",
    "\n",
    "customer_names.pop()\n",
    "customer_names.pop()\n",
    "\n",
    "customer_names"
   ]
  },
  {
   "cell_type": "markdown",
   "metadata": {},
   "source": [
    "# Getting Titles"
   ]
  },
  {
   "cell_type": "code",
   "execution_count": 5,
   "metadata": {},
   "outputs": [
    {
     "name": "stdout",
     "output_type": "stream",
     "text": [
      "['\\nTHE BEST!\\n', \"\\nIt's alien technology\\n\", '\\nSuper excited\\n', \"\\nDon't Buy Apple Products from Amazon\\n\", '\\nM1 8gb vs 16gb confusion?\\n', '\\nPlay awesome\\n', '\\nWorst product ever\\n', '\\nThe best macbook air till date\\n', \"\\nIt's value for money\\n\", '\\nDamaged Product\\n']\n"
     ]
    },
    {
     "data": {
      "text/plain": [
       "['\\nTHE BEST!\\n',\n",
       " \"\\nIt's alien technology\\n\",\n",
       " '\\nSuper excited\\n',\n",
       " \"\\nDon't Buy Apple Products from Amazon\\n\",\n",
       " '\\nM1 8gb vs 16gb confusion?\\n',\n",
       " '\\nPlay awesome\\n',\n",
       " '\\nWorst product ever\\n',\n",
       " '\\nThe best macbook air till date\\n',\n",
       " \"\\nIt's value for money\\n\",\n",
       " '\\nDamaged Product\\n']"
      ]
     },
     "execution_count": 5,
     "metadata": {},
     "output_type": "execute_result"
    }
   ],
   "source": [
    "title = soup.find_all('a' , class_ = 'a-size-base a-link-normal review-title a-color-base review-title-content a-text-bold')\n",
    "titles = []\n",
    "for i in range(0,len(title)) :\n",
    "    titles.append(title[i].get_text())\n",
    "print(titles)\n",
    "\n",
    "titles"
   ]
  },
  {
   "cell_type": "markdown",
   "metadata": {},
   "source": [
    "# Removing  '\\n' form titles"
   ]
  },
  {
   "cell_type": "code",
   "execution_count": 6,
   "metadata": {},
   "outputs": [
    {
     "data": {
      "text/plain": [
       "10"
      ]
     },
     "execution_count": 6,
     "metadata": {},
     "output_type": "execute_result"
    }
   ],
   "source": [
    "titles [:] = [i.lstrip('\\n') for i in titles]\n",
    "titles [:] = [i.rstrip('\\n') for i in titles]\n",
    "len(titles)"
   ]
  },
  {
   "cell_type": "markdown",
   "metadata": {},
   "source": [
    "# Getting Date of Reviews"
   ]
  },
  {
   "cell_type": "code",
   "execution_count": 7,
   "metadata": {},
   "outputs": [
    {
     "data": {
      "text/plain": [
       "['5 December 2020',\n",
       " '18 August 2021',\n",
       " '5 December 2020',\n",
       " '25 January 2021',\n",
       " '19 November 2020',\n",
       " '18 August 2021',\n",
       " '19 January 2021',\n",
       " '17 November 2020',\n",
       " '31 May 2021',\n",
       " '19 December 2020']"
      ]
     },
     "execution_count": 7,
     "metadata": {},
     "output_type": "execute_result"
    }
   ],
   "source": [
    "date = soup.find_all('span' , class_  = 'a-size-base a-color-secondary review-date')\n",
    "dates = []\n",
    "for i in range(0,len(date)) : \n",
    "    dates.append(date[i].get_text())\n",
    "\n",
    "dates[:] = [i.replace('Reviewed in India on ', \"\") for i in dates]\n",
    "dates.pop()\n",
    "dates.pop()\n",
    "dates"
   ]
  },
  {
   "cell_type": "markdown",
   "metadata": {},
   "source": [
    "# Getting reviews"
   ]
  },
  {
   "cell_type": "code",
   "execution_count": 8,
   "metadata": {},
   "outputs": [
    {
     "name": "stdout",
     "output_type": "stream",
     "text": [
      "[\"  Best in class. Performance, Display, Battery backup are above excellent.A must have for every tech geekBought this after selling my Yamaha R15, but no regrets.... It's speed is better than R15. 😅\", \"  Pros:-1. It's Superfast. It will feel fast on everything - from bootup, to app opening, to builds etc.2. It's slim. Air has no fan hence it's form factor is even slimmer than Pro.3. It remains cold even during heavy code builds. It's hard to find things which makes it warm actually.4. I have tried several graphics heavy games and they run great without any heat as well5. If you are just browsing with Wifi on, typically it loses 10% battery in 7-8 hours. But it's for Safari browser. It has achieved I guess what people will call power-efficiency nirvana.6. Screen, Sound and Mic quality are awesomeCons:-1. Since it's winters in India now, some people might not like that it doesn't heat up the surroundings2. For longer workloads - like if you are doing daily large video compressions/conversions and that takes like 15-20 mins, then this machine will not work as fast as Pro; as that's not the load it's optimised for. But ask yourself - whether you are gonna do that at all.3. Camera is 720p and that sucks about every other laptop as well. But Apple has brought some software optimisations which will make it look better4. It doesn't make sound of fan, so you might feel asleep if you are used that to keep track of your ML jobs.Apple started a revolution with this. Go for it, it's worth it.\", '  If we could get it for around 70-75k with some kind of discount that would b huge.. anyways, super excited.', \"  Ordered the M1 Air on 5th August and got it delivered on the 7th. Then on 18th noticed a black/grey spot on the display... quick google search revealed this as a dead pixel and quite common with M1 Macs. So I called up Apple and they offered me two options, either a new replacement Mac or full refund since mine is still under 14 days. As soon as I revealed that I purchased from Amazon, the Apple sales team said sorry they can't help me since Amazon is not Apple authorised seller.I'm never buying another Apple product from Amazon again. If you want the full Apple experience like seamless replacement, refund or after sales then you need to buy it from Apple or from any of its authorised sellers. I made a costly mistake hope others will not after reading this message.\", '  Should i buy the 16gb ram from apple store? This was the question i had for a long time. After going through tons of videos that compares 8gb air vs 16gb there was a clear evidence that with my use i can still be happy with the m1 8gb ram variant.This is not a long term review but i shall update the review after few months of usage.Why i opted for 8gb ram?My use is browsing some secure pages, maybe watch some videos too. Use imovies to edit small videos (not heavy 4k long videos as such) but i have seen that this can support even editing 4k videos. But then definitely if you are someone who use it majorly for editing 4k videos then you should probably get the 16gb variant. Then i do a little bit of coding too.I do have a office laptop that is a 16gb ram intel one. I did try opening some youtube 4k vids in chrome and compared it side by side and initial impression is pretty good on how the m1 takes on the load. But I should wait for more to get the actual picture.So, if you are light user with basic use and not into gaming or anything. This laptop is gonna be more than enough for your use. As its very much portable and light weight. The battery is also heavily optimised. ( i tried all these and i am yet to do my initial charging 😊).I shall update my review after 3-6 months for a better comparison.***update after 10 months *****No regrets! This is super fast engine. I do a lot of coding now with this. I feel every software works like a charm in M1 now. Of course we have the updated processor now. This is a start of a super powerful engine', '  Excellent product  very fast and amazing fast m1 chip so fast and faster  than the intel processor what a power', '  Worst experience ever , first of all they sold me a bad product with display issues and now they is no proper response to replace or refund the lap and I have been trying to do this from last one week . I have been calling Amazon customer care from past 5 days . Worst worst experience ever', '  Amazing speed and works flawlessly. Does not get hot like previous intel model.M1 models are a game changer. Apple will rule processor universe in future and M1 is only an entry processor.', \"  I am using Macbook M1 - 512GB version for more than 20 days now. I never noticed any heat. I am able to install almost everything I need. HomeBrew, VLC Player, VSCode, Darktable, Docker Preview, Chrome, and many more.iTerm with ohmyzsh no issue at all.node, ruby, python, java(azul jdk), php, elixir, go, typescript, many morenot installed deno as I have to download x-code full(11GB) will do in futurenot installed android studionot installed rustnot installed whatever I didn't install.Spotify, Prime Music were installed for music\", \"  Don't buy from this seller , I received a defective piece and they are not willing to replace it either... The function key seems to be short circuited and the keyboard is misbehaving like hell... what's the point of carrying an external keyboard after spending so much for this ...It's like stealing our hard earned money !!!\"]\n"
     ]
    }
   ],
   "source": [
    "review = soup.find_all('span', {\"data-hook\":\"review-body\"})\n",
    "reviews =[]\n",
    "for i in range(0,len(review) ) :\n",
    "    reviews.append(review[i].get_text())\n",
    "\n",
    "\n",
    "\n",
    "# removing \\n from reviews\n",
    "reviews [:] = [i.lstrip('\\n') for i in reviews]\n",
    "reviews [:] = [i.rstrip('\\n') for i in reviews]\n",
    "\n",
    "print(reviews)"
   ]
  },
  {
   "cell_type": "code",
   "execution_count": 9,
   "metadata": {},
   "outputs": [
    {
     "name": "stdout",
     "output_type": "stream",
     "text": [
      "10\n",
      "10\n",
      "10\n",
      "10\n"
     ]
    }
   ],
   "source": [
    "print(len(dates))\n",
    "print(len(customer_names))\n",
    "print(len(titles))\n",
    "print(len(reviews))"
   ]
  },
  {
   "cell_type": "markdown",
   "metadata": {},
   "source": [
    "# Creating CSV"
   ]
  },
  {
   "cell_type": "code",
   "execution_count": 10,
   "metadata": {},
   "outputs": [
    {
     "data": {
      "text/html": [
       "<div>\n",
       "<style scoped>\n",
       "    .dataframe tbody tr th:only-of-type {\n",
       "        vertical-align: middle;\n",
       "    }\n",
       "\n",
       "    .dataframe tbody tr th {\n",
       "        vertical-align: top;\n",
       "    }\n",
       "\n",
       "    .dataframe thead th {\n",
       "        text-align: right;\n",
       "    }\n",
       "</style>\n",
       "<table border=\"1\" class=\"dataframe\">\n",
       "  <thead>\n",
       "    <tr style=\"text-align: right;\">\n",
       "      <th></th>\n",
       "      <th>Customer Names</th>\n",
       "      <th>Titles</th>\n",
       "      <th>Date</th>\n",
       "      <th>Reviews</th>\n",
       "    </tr>\n",
       "  </thead>\n",
       "  <tbody>\n",
       "    <tr>\n",
       "      <th>0</th>\n",
       "      <td>Prady</td>\n",
       "      <td>THE BEST!</td>\n",
       "      <td>5 December 2020</td>\n",
       "      <td>Best in class. Performance, Display, Battery...</td>\n",
       "    </tr>\n",
       "    <tr>\n",
       "      <th>1</th>\n",
       "      <td>Nomadic</td>\n",
       "      <td>It's alien technology</td>\n",
       "      <td>18 August 2021</td>\n",
       "      <td>Pros:-1. It's Superfast. It will feel fast o...</td>\n",
       "    </tr>\n",
       "    <tr>\n",
       "      <th>2</th>\n",
       "      <td>Prady</td>\n",
       "      <td>Super excited</td>\n",
       "      <td>5 December 2020</td>\n",
       "      <td>If we could get it for around 70-75k with so...</td>\n",
       "    </tr>\n",
       "    <tr>\n",
       "      <th>3</th>\n",
       "      <td>tech geek</td>\n",
       "      <td>Don't Buy Apple Products from Amazon</td>\n",
       "      <td>25 January 2021</td>\n",
       "      <td>Ordered the M1 Air on 5th August and got it ...</td>\n",
       "    </tr>\n",
       "    <tr>\n",
       "      <th>4</th>\n",
       "      <td>Shiran Lone</td>\n",
       "      <td>M1 8gb vs 16gb confusion?</td>\n",
       "      <td>19 November 2020</td>\n",
       "      <td>Should i buy the 16gb ram from apple store? ...</td>\n",
       "    </tr>\n",
       "    <tr>\n",
       "      <th>5</th>\n",
       "      <td>Nomadic</td>\n",
       "      <td>Play awesome</td>\n",
       "      <td>18 August 2021</td>\n",
       "      <td>Excellent product  very fast and amazing fas...</td>\n",
       "    </tr>\n",
       "    <tr>\n",
       "      <th>6</th>\n",
       "      <td>ashish</td>\n",
       "      <td>Worst product ever</td>\n",
       "      <td>19 January 2021</td>\n",
       "      <td>Worst experience ever , first of all they so...</td>\n",
       "    </tr>\n",
       "    <tr>\n",
       "      <th>7</th>\n",
       "      <td>suryakala</td>\n",
       "      <td>The best macbook air till date</td>\n",
       "      <td>17 November 2020</td>\n",
       "      <td>Amazing speed and works flawlessly. Does not...</td>\n",
       "    </tr>\n",
       "    <tr>\n",
       "      <th>8</th>\n",
       "      <td>Dr Vignesh</td>\n",
       "      <td>It's value for money</td>\n",
       "      <td>31 May 2021</td>\n",
       "      <td>I am using Macbook M1 - 512GB version for mo...</td>\n",
       "    </tr>\n",
       "    <tr>\n",
       "      <th>9</th>\n",
       "      <td>Abhishek Verma</td>\n",
       "      <td>Damaged Product</td>\n",
       "      <td>19 December 2020</td>\n",
       "      <td>Don't buy from this seller , I received a de...</td>\n",
       "    </tr>\n",
       "  </tbody>\n",
       "</table>\n",
       "</div>"
      ],
      "text/plain": [
       "   Customer Names                                Titles              Date  \\\n",
       "0           Prady                             THE BEST!   5 December 2020   \n",
       "1         Nomadic                 It's alien technology    18 August 2021   \n",
       "2           Prady                         Super excited   5 December 2020   \n",
       "3       tech geek  Don't Buy Apple Products from Amazon   25 January 2021   \n",
       "4     Shiran Lone             M1 8gb vs 16gb confusion?  19 November 2020   \n",
       "5         Nomadic                          Play awesome    18 August 2021   \n",
       "6          ashish                    Worst product ever   19 January 2021   \n",
       "7       suryakala        The best macbook air till date  17 November 2020   \n",
       "8      Dr Vignesh                  It's value for money       31 May 2021   \n",
       "9  Abhishek Verma                       Damaged Product  19 December 2020   \n",
       "\n",
       "                                             Reviews  \n",
       "0    Best in class. Performance, Display, Battery...  \n",
       "1    Pros:-1. It's Superfast. It will feel fast o...  \n",
       "2    If we could get it for around 70-75k with so...  \n",
       "3    Ordered the M1 Air on 5th August and got it ...  \n",
       "4    Should i buy the 16gb ram from apple store? ...  \n",
       "5    Excellent product  very fast and amazing fas...  \n",
       "6    Worst experience ever , first of all they so...  \n",
       "7    Amazing speed and works flawlessly. Does not...  \n",
       "8    I am using Macbook M1 - 512GB version for mo...  \n",
       "9    Don't buy from this seller , I received a de...  "
      ]
     },
     "execution_count": 10,
     "metadata": {},
     "output_type": "execute_result"
    }
   ],
   "source": [
    "df = pd.DataFrame()\n",
    "df[\"Customer Names\"] = customer_names\n",
    "df[\"Titles\"] = titles\n",
    "df[\"Date\"] = dates\n",
    "df[\"Reviews\"] = reviews\n",
    "df"
   ]
  },
  {
   "cell_type": "markdown",
   "metadata": {},
   "source": [
    "# Exporintg Csv file"
   ]
  },
  {
   "cell_type": "code",
   "execution_count": 12,
   "metadata": {},
   "outputs": [],
   "source": [
    "df.to_csv(r\"F:\\my_project\\Web Scraping\\amazon_data.csv\" , index=False)\n"
   ]
  }
 ],
 "metadata": {
  "interpreter": {
   "hash": "b3ba2566441a7c06988d0923437866b63cedc61552a5af99d1f4fb67d367b25f"
  },
  "kernelspec": {
   "display_name": "Python 3.8.8 64-bit ('base': conda)",
   "language": "python",
   "name": "python3"
  },
  "language_info": {
   "codemirror_mode": {
    "name": "ipython",
    "version": 3
   },
   "file_extension": ".py",
   "mimetype": "text/x-python",
   "name": "python",
   "nbconvert_exporter": "python",
   "pygments_lexer": "ipython3",
   "version": "3.8.8"
  },
  "orig_nbformat": 4
 },
 "nbformat": 4,
 "nbformat_minor": 2
}
